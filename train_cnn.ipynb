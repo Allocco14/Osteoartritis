{
 "cells": [
  {
   "cell_type": "code",
   "execution_count": 18,
   "metadata": {},
   "outputs": [
    {
     "name": "stderr",
     "output_type": "stream",
     "text": [
      "c:\\Users\\achav\\Documents\\Osteoartritis\\osteo\\Lib\\site-packages\\keras\\src\\layers\\convolutional\\base_conv.py:107: UserWarning: Do not pass an `input_shape`/`input_dim` argument to a layer. When using Sequential models, prefer using an `Input(shape)` object as the first layer in the model instead.\n",
      "  super().__init__(activity_regularizer=activity_regularizer, **kwargs)\n"
     ]
    }
   ],
   "source": [
    "import tensorflow as tf\n",
    "from tensorflow.keras import layers, models\n",
    "\n",
    "imagen_alto = 128\n",
    "imagen_ancho = 128\n",
    "canales_de_color = 1\n",
    "\n",
    "# Definir la arquitectura de la CNN\n",
    "model = models.Sequential([\n",
    "    layers.Conv2D(32, (3, 3), activation='relu', input_shape=(imagen_alto, imagen_ancho, canales_de_color)),\n",
    "    layers.MaxPooling2D((2, 2)),\n",
    "    layers.Conv2D(64, (3, 3), activation='relu'),\n",
    "    layers.MaxPooling2D((2, 2)),\n",
    "    layers.Conv2D(64, (3, 3), activation='relu'),\n",
    "    layers.Flatten(),\n",
    "    layers.Dense(64, activation='relu'),\n",
    "    layers.Dense(2, activation='softmax')  # 2 clases: Clase A y Clase B\n",
    "]) \n",
    "\n",
    "# Compilar el modelo\n",
    "model.compile(optimizer='adam',\n",
    "              loss='sparse_categorical_crossentropy',\n",
    "              metrics=['accuracy'])\n",
    "\n",
    "\n"
   ]
  },
  {
   "cell_type": "code",
   "execution_count": 19,
   "metadata": {},
   "outputs": [],
   "source": [
    "import os\n",
    "import cv2\n",
    "import numpy as np\n",
    "\n",
    "# Directorio donde se encuentran las imágenes de entrenamiento\n",
    "directorio_raiz = \"dataset\"\n",
    "\n",
    "# Lista para almacenar las imágenes y etiquetas\n",
    "imagenes = []\n",
    "etiquetas = []\n",
    "\n",
    "# Clases disponibles\n",
    "clases = ['class_A', 'class_B']\n",
    "\n",
    "# Recorrer las carpetas de las clases\n",
    "for clase in clases:\n",
    "    # Obtener la ruta completa de la carpeta de la clase actual\n",
    "    ruta_clase = os.path.join(directorio_raiz, clase)\n",
    "    # Unir con la ruta al tamaño de imagen deseado\n",
    "    ruta_clase = os.path.join(ruta_clase, \"size_128\")\n",
    "\n",
    "    # Obtener la etiqueta correspondiente a la clase actual\n",
    "    etiqueta = clases.index(clase)\n",
    "    # Recorrer las imágenes en la carpeta de la clase actual\n",
    "    for imagen_nombre in os.listdir(ruta_clase):\n",
    "        # Leer la imagen y convertirla a escala de grises\n",
    "        imagen = cv2.imread(os.path.join(ruta_clase, imagen_nombre), cv2.IMREAD_GRAYSCALE)\n",
    "        # Redimensionar la imagen si es necesario\n",
    "        #imagen = cv2.resize(imagen, (nuevo_alto, nuevo_ancho))\n",
    "        # Normalizar los valores de píxeles entre 0 y 1\n",
    "        imagen = imagen / 255.0\n",
    "        # Almacenar la imagen y su etiqueta en las listas correspondientes\n",
    "        imagenes.append(imagen)\n",
    "        etiquetas.append(etiqueta)\n",
    "\n",
    "# Convertir las listas de imágenes y etiquetas a arrays numpy\n",
    "imagenes = np.array(imagenes)\n",
    "etiquetas = np.array(etiquetas)\n",
    "\n",
    "num_epochs = 10\n",
    "batch_size = 32"
   ]
  },
  {
   "cell_type": "code",
   "execution_count": 21,
   "metadata": {},
   "outputs": [],
   "source": [
    "from sklearn.model_selection import train_test_split\n",
    "\n",
    "# Dividir los datos en entrenamiento y validación\n",
    "imagenes_entrenamiento, imagenes_validacion, etiquetas_entrenamiento, etiquetas_validacion = train_test_split(imagenes, etiquetas, test_size=0.2, random_state=42)\n",
    "\n",
    "# Convertir las listas de imágenes y etiquetas de entrenamiento a arrays numpy\n",
    "imagenes_entrenamiento = np.array(imagenes_entrenamiento)\n",
    "etiquetas_entrenamiento = np.array(etiquetas_entrenamiento)\n",
    "\n",
    "# Convertir las listas de imágenes y etiquetas de validación a arrays numpy\n",
    "imagenes_validacion = np.array(imagenes_validacion)\n",
    "etiquetas_validacion = np.array(etiquetas_validacion)"
   ]
  },
  {
   "cell_type": "code",
   "execution_count": 22,
   "metadata": {},
   "outputs": [
    {
     "name": "stdout",
     "output_type": "stream",
     "text": [
      "Epoch 1/10\n",
      "\u001b[1m18/18\u001b[0m \u001b[32m━━━━━━━━━━━━━━━━━━━━\u001b[0m\u001b[37m\u001b[0m \u001b[1m8s\u001b[0m 317ms/step - accuracy: 0.8380 - loss: 0.5575\n",
      "Epoch 2/10\n",
      "\u001b[1m18/18\u001b[0m \u001b[32m━━━━━━━━━━━━━━━━━━━━\u001b[0m\u001b[37m\u001b[0m \u001b[1m6s\u001b[0m 319ms/step - accuracy: 0.8319 - loss: 0.4586\n",
      "Epoch 3/10\n",
      "\u001b[1m18/18\u001b[0m \u001b[32m━━━━━━━━━━━━━━━━━━━━\u001b[0m\u001b[37m\u001b[0m \u001b[1m5s\u001b[0m 303ms/step - accuracy: 0.8011 - loss: 0.5288\n",
      "Epoch 4/10\n",
      "\u001b[1m18/18\u001b[0m \u001b[32m━━━━━━━━━━━━━━━━━━━━\u001b[0m\u001b[37m\u001b[0m \u001b[1m5s\u001b[0m 278ms/step - accuracy: 0.8427 - loss: 0.4836\n",
      "Epoch 5/10\n",
      "\u001b[1m18/18\u001b[0m \u001b[32m━━━━━━━━━━━━━━━━━━━━\u001b[0m\u001b[37m\u001b[0m \u001b[1m5s\u001b[0m 281ms/step - accuracy: 0.8231 - loss: 0.4670\n",
      "Epoch 6/10\n",
      "\u001b[1m18/18\u001b[0m \u001b[32m━━━━━━━━━━━━━━━━━━━━\u001b[0m\u001b[37m\u001b[0m \u001b[1m5s\u001b[0m 267ms/step - accuracy: 0.8169 - loss: 0.4759\n",
      "Epoch 7/10\n",
      "\u001b[1m18/18\u001b[0m \u001b[32m━━━━━━━━━━━━━━━━━━━━\u001b[0m\u001b[37m\u001b[0m \u001b[1m5s\u001b[0m 273ms/step - accuracy: 0.8325 - loss: 0.4400\n",
      "Epoch 8/10\n",
      "\u001b[1m18/18\u001b[0m \u001b[32m━━━━━━━━━━━━━━━━━━━━\u001b[0m\u001b[37m\u001b[0m \u001b[1m5s\u001b[0m 273ms/step - accuracy: 0.8147 - loss: 0.4244\n",
      "Epoch 9/10\n",
      "\u001b[1m18/18\u001b[0m \u001b[32m━━━━━━━━━━━━━━━━━━━━\u001b[0m\u001b[37m\u001b[0m \u001b[1m5s\u001b[0m 279ms/step - accuracy: 0.8332 - loss: 0.3648\n",
      "Epoch 10/10\n",
      "\u001b[1m18/18\u001b[0m \u001b[32m━━━━━━━━━━━━━━━━━━━━\u001b[0m\u001b[37m\u001b[0m \u001b[1m5s\u001b[0m 273ms/step - accuracy: 0.8431 - loss: 0.3848\n"
     ]
    },
    {
     "data": {
      "text/plain": [
       "<keras.src.callbacks.history.History at 0x240c0293010>"
      ]
     },
     "execution_count": 22,
     "metadata": {},
     "output_type": "execute_result"
    }
   ],
   "source": [
    "from tensorflow.keras.callbacks import TensorBoard\n",
    "\n",
    "# Directorio donde se guardarán los registros para TensorBoard\n",
    "directorio_logs = \"logs/\"\n",
    "\n",
    "# Callback de TensorBoard\n",
    "tensorboard_callback = TensorBoard(log_dir=directorio_logs, histogram_freq=1)\n",
    "\n",
    "# Entrenar el modelo con el callback de TensorBoard\n",
    "model.fit(imagenes_entrenamiento, etiquetas_entrenamiento,\n",
    "          epochs=num_epochs,\n",
    "          batch_size=batch_size,\n",
    "          callbacks=[tensorboard_callback])\n",
    "\n",
    "\n"
   ]
  },
  {
   "cell_type": "code",
   "execution_count": 23,
   "metadata": {},
   "outputs": [
    {
     "name": "stdout",
     "output_type": "stream",
     "text": [
      "\u001b[1m5/5\u001b[0m \u001b[32m━━━━━━━━━━━━━━━━━━━━\u001b[0m\u001b[37m\u001b[0m \u001b[1m1s\u001b[0m 68ms/step - accuracy: 0.7662 - loss: 0.6852\n",
      "Precisión en datos de prueba: 0.7659574747085571\n"
     ]
    }
   ],
   "source": [
    "# Evaluar el modelo\n",
    "test_loss, test_acc = model.evaluate(imagenes_validacion, etiquetas_validacion)\n",
    "print('Precisión en datos de prueba:', test_acc)\n",
    "\n"
   ]
  }
 ],
 "metadata": {
  "kernelspec": {
   "display_name": "venv",
   "language": "python",
   "name": "python3"
  },
  "language_info": {
   "codemirror_mode": {
    "name": "ipython",
    "version": 3
   },
   "file_extension": ".py",
   "mimetype": "text/x-python",
   "name": "python",
   "nbconvert_exporter": "python",
   "pygments_lexer": "ipython3",
   "version": "3.11.9"
  }
 },
 "nbformat": 4,
 "nbformat_minor": 2
}
