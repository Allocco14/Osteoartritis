{
 "cells": [
  {
   "cell_type": "markdown",
   "metadata": {},
   "source": [
    "# Importación de datos"
   ]
  },
  {
   "cell_type": "code",
   "execution_count": 3,
   "metadata": {},
   "outputs": [
    {
     "name": "stdout",
     "output_type": "stream",
     "text": [
      "(73300, 128, 128, 3)\n",
      "(73300,)\n"
     ]
    }
   ],
   "source": [
    "import os\n",
    "import cv2\n",
    "import numpy as np\n",
    "import pathlib\n",
    "import matplotlib.pyplot as plt\n",
    "\n",
    "data_dir = pathlib.Path('assets')\n",
    "\n",
    "# Lista para almacenar las imágenes y etiquetas\n",
    "imagenes = []\n",
    "etiquetas = []\n",
    "\n",
    "# Clases disponibles\n",
    "clases = ['class_A', 'class_B', 'class_C',]\n",
    "\n",
    "# Recorrer las carpetas de las clases\n",
    "for plate in os.listdir(data_dir):\n",
    "    for clase in clases:\n",
    "        for file in os.listdir(data_dir / plate / 'resized' / clase):\n",
    "            # Leer la imagen\n",
    "            imagen = cv2.imread(str(data_dir / plate / 'resized' / clase / file), cv2.IMREAD_COLOR)\n",
    "\n",
    "            # Agregar la imagen a la lista\n",
    "            imagenes.append(imagen)\n",
    "            # Agregar la etiqueta a la lista en el formato 0 o 1\n",
    "            etiquetas.append(0 if clase == 'class_B' else 1)\n",
    "\n",
    "# Convertir las listas de imágenes y etiquetas a arrays numpy\n",
    "imagenes = np.array(imagenes)\n",
    "\n",
    "etiquetas = np.array(etiquetas)\n",
    "\n",
    "print(imagenes.shape)\n",
    "print(etiquetas.shape)\n"
   ]
  },
  {
   "cell_type": "code",
   "execution_count": null,
   "metadata": {},
   "outputs": [],
   "source": [
    "# # Submuestreo de la clase mayoritaria\n",
    "# \n",
    "# # Contar el número de muestras de cada clase\n",
    "# clase_0 = np.sum(etiquetas == 0)\n",
    "# clase_1 = np.sum(etiquetas == 1)\n",
    "# \n",
    "# # Determinar la clase mayoritaria y la clase minoritaria\n",
    "# clase_mayoritaria = 0 if clase_0 > clase_1 else 1\n",
    "# clase_minoritaria = 1 if clase_mayoritaria == 0 else 0\n",
    "# \n",
    "# # Calcular la diferencia entre el número de muestras de la clase mayoritaria y la clase minoritaria\n",
    "# diferencia = clase_0 - clase_1 if clase_0 > clase_1 else clase_1 - clase_0\n",
    "# \n",
    "# # Encontrar los índices de las muestras de la clase mayoritaria\n",
    "# indices = np.where(etiquetas == clase_mayoritaria)[0]\n",
    "# \n",
    "# # Seleccionar aleatoriamente las muestras de la clase mayoritaria a eliminar\n",
    "# indices = np.random.choice(indices, diferencia, replace=False)\n",
    "# \n",
    "# # Eliminar las muestras de la clase mayoritaria\n",
    "# imagenes = np.delete(imagenes, indices, axis=0)\n",
    "# etiquetas = np.delete(etiquetas, indices, axis=0)\n",
    "# \n",
    "# # Contar el número de muestras de cada clase después del submuestreo\n",
    "# clase_0 = np.sum(etiquetas == 0)\n",
    "# clase_1 = np.sum(etiquetas == 1)\n",
    "# \n",
    "# print(clase_0, clase_1)\n",
    "# \n",
    "# # etiquetas = tf.keras.utils.to_categorical(etiquetas, num_classes=2)\n",
    "# \n",
    "# print(imagenes.shape)\n",
    "# print(etiquetas.shape)\n",
    "# "
   ]
  },
  {
   "cell_type": "code",
   "execution_count": 4,
   "metadata": {},
   "outputs": [
    {
     "name": "stdout",
     "output_type": "stream",
     "text": [
      "65889 65889\n"
     ]
    }
   ],
   "source": [
    "# Oversampling de la clase minoritaria\n",
    "\n",
    "# Contar el número de muestras de cada clase\n",
    "clase_0 = np.sum(etiquetas == 0)\n",
    "clase_1 = np.sum(etiquetas == 1)\n",
    "\n",
    "# Determinar la clase mayoritaria y la clase minoritaria\n",
    "clase_mayoritaria = 0 if clase_0 > clase_1 else 1\n",
    "clase_minoritaria = 1 if clase_mayoritaria == 0 else 0\n",
    "\n",
    "# Calcular la diferencia entre el número de muestras de la clase mayoritaria y la clase minoritaria\n",
    "diferencia = clase_0 - clase_1 if clase_0 > clase_1 else clase_1 - clase_0\n",
    "\n",
    "# Encontrar los índices de las muestras de la clase minoritaria\n",
    "indices = np.where(etiquetas == clase_minoritaria)[0]\n",
    "\n",
    "# Seleccionar aleatoriamente las muestras de la clase minoritaria a duplicar\n",
    "indices = np.random.choice(indices, diferencia, replace=True)\n",
    "\n",
    "# Duplicar las muestras de la clase minoritaria\n",
    "imagenes = np.concatenate((imagenes, imagenes[indices]), axis=0)\n",
    "etiquetas = np.concatenate((etiquetas, etiquetas[indices]), axis=0)\n",
    "\n",
    "# Contar el número de muestras de cada clase después del sobremuestreo\n",
    "clase_0 = np.sum(etiquetas == 0)\n",
    "clase_1 = np.sum(etiquetas == 1)\n",
    "\n",
    "print(clase_0, clase_1)\n",
    "\n",
    "# Guardar las imágenes y etiquetas en un directorio\n",
    "data_clase_A = 'data/clase_A'\n",
    "data_clase_B = 'data/clase_B'\n",
    "\n",
    "if not os.path.exists(data_clase_A):\n",
    "    os.makedirs(data_clase_A)\n",
    "\n",
    "if not os.path.exists(data_clase_B):\n",
    "    os.makedirs(data_clase_B)\n",
    "\n",
    "for i, (imagen, etiqueta) in enumerate(zip(imagenes, etiquetas)):\n",
    "    clase = 'clase_A' if etiqueta == 1 else 'clase_B'\n",
    "    cv2.imwrite(f'{data_clase_A if etiqueta == 1 else data_clase_B}/{clase}_{i}.jpg', imagen)\n"
   ]
  },
  {
   "cell_type": "markdown",
   "metadata": {},
   "source": [
    "# Cargar ResNet50 de base"
   ]
  },
  {
   "cell_type": "code",
   "execution_count": null,
   "metadata": {},
   "outputs": [
    {
     "data": {
      "text/html": [
       "<pre style=\"white-space:pre;overflow-x:auto;line-height:normal;font-family:Menlo,'DejaVu Sans Mono',consolas,'Courier New',monospace\"><span style=\"font-weight: bold\">Model: \"functional_1\"</span>\n",
       "</pre>\n"
      ],
      "text/plain": [
       "\u001b[1mModel: \"functional_1\"\u001b[0m\n"
      ]
     },
     "metadata": {},
     "output_type": "display_data"
    },
    {
     "data": {
      "text/html": [
       "<pre style=\"white-space:pre;overflow-x:auto;line-height:normal;font-family:Menlo,'DejaVu Sans Mono',consolas,'Courier New',monospace\">┏━━━━━━━━━━━━━━━━━━━━━━━━━━━━━━━━━┳━━━━━━━━━━━━━━━━━━━━━━━━┳━━━━━━━━━━━━━━━┓\n",
       "┃<span style=\"font-weight: bold\"> Layer (type)                    </span>┃<span style=\"font-weight: bold\"> Output Shape           </span>┃<span style=\"font-weight: bold\">       Param # </span>┃\n",
       "┡━━━━━━━━━━━━━━━━━━━━━━━━━━━━━━━━━╇━━━━━━━━━━━━━━━━━━━━━━━━╇━━━━━━━━━━━━━━━┩\n",
       "│ input_layer_1 (<span style=\"color: #0087ff; text-decoration-color: #0087ff\">InputLayer</span>)      │ (<span style=\"color: #00d7ff; text-decoration-color: #00d7ff\">None</span>, <span style=\"color: #00af00; text-decoration-color: #00af00\">128</span>, <span style=\"color: #00af00; text-decoration-color: #00af00\">128</span>, <span style=\"color: #00af00; text-decoration-color: #00af00\">3</span>)    │             <span style=\"color: #00af00; text-decoration-color: #00af00\">0</span> │\n",
       "├─────────────────────────────────┼────────────────────────┼───────────────┤\n",
       "│ sequential (<span style=\"color: #0087ff; text-decoration-color: #0087ff\">Sequential</span>)         │ (<span style=\"color: #00d7ff; text-decoration-color: #00d7ff\">None</span>, <span style=\"color: #00af00; text-decoration-color: #00af00\">128</span>, <span style=\"color: #00af00; text-decoration-color: #00af00\">128</span>, <span style=\"color: #00af00; text-decoration-color: #00af00\">3</span>)    │             <span style=\"color: #00af00; text-decoration-color: #00af00\">0</span> │\n",
       "├─────────────────────────────────┼────────────────────────┼───────────────┤\n",
       "│ resnet50 (<span style=\"color: #0087ff; text-decoration-color: #0087ff\">Functional</span>)           │ (<span style=\"color: #00d7ff; text-decoration-color: #00d7ff\">None</span>, <span style=\"color: #00af00; text-decoration-color: #00af00\">4</span>, <span style=\"color: #00af00; text-decoration-color: #00af00\">4</span>, <span style=\"color: #00af00; text-decoration-color: #00af00\">2048</span>)     │    <span style=\"color: #00af00; text-decoration-color: #00af00\">23,587,712</span> │\n",
       "├─────────────────────────────────┼────────────────────────┼───────────────┤\n",
       "│ global_average_pooling2d        │ (<span style=\"color: #00d7ff; text-decoration-color: #00d7ff\">None</span>, <span style=\"color: #00af00; text-decoration-color: #00af00\">2048</span>)           │             <span style=\"color: #00af00; text-decoration-color: #00af00\">0</span> │\n",
       "│ (<span style=\"color: #0087ff; text-decoration-color: #0087ff\">GlobalAveragePooling2D</span>)        │                        │               │\n",
       "├─────────────────────────────────┼────────────────────────┼───────────────┤\n",
       "│ dense (<span style=\"color: #0087ff; text-decoration-color: #0087ff\">Dense</span>)                   │ (<span style=\"color: #00d7ff; text-decoration-color: #00d7ff\">None</span>, <span style=\"color: #00af00; text-decoration-color: #00af00\">1024</span>)           │     <span style=\"color: #00af00; text-decoration-color: #00af00\">2,098,176</span> │\n",
       "├─────────────────────────────────┼────────────────────────┼───────────────┤\n",
       "│ dense_1 (<span style=\"color: #0087ff; text-decoration-color: #0087ff\">Dense</span>)                 │ (<span style=\"color: #00d7ff; text-decoration-color: #00d7ff\">None</span>, <span style=\"color: #00af00; text-decoration-color: #00af00\">2</span>)              │         <span style=\"color: #00af00; text-decoration-color: #00af00\">2,050</span> │\n",
       "└─────────────────────────────────┴────────────────────────┴───────────────┘\n",
       "</pre>\n"
      ],
      "text/plain": [
       "┏━━━━━━━━━━━━━━━━━━━━━━━━━━━━━━━━━┳━━━━━━━━━━━━━━━━━━━━━━━━┳━━━━━━━━━━━━━━━┓\n",
       "┃\u001b[1m \u001b[0m\u001b[1mLayer (type)                   \u001b[0m\u001b[1m \u001b[0m┃\u001b[1m \u001b[0m\u001b[1mOutput Shape          \u001b[0m\u001b[1m \u001b[0m┃\u001b[1m \u001b[0m\u001b[1m      Param #\u001b[0m\u001b[1m \u001b[0m┃\n",
       "┡━━━━━━━━━━━━━━━━━━━━━━━━━━━━━━━━━╇━━━━━━━━━━━━━━━━━━━━━━━━╇━━━━━━━━━━━━━━━┩\n",
       "│ input_layer_1 (\u001b[38;5;33mInputLayer\u001b[0m)      │ (\u001b[38;5;45mNone\u001b[0m, \u001b[38;5;34m128\u001b[0m, \u001b[38;5;34m128\u001b[0m, \u001b[38;5;34m3\u001b[0m)    │             \u001b[38;5;34m0\u001b[0m │\n",
       "├─────────────────────────────────┼────────────────────────┼───────────────┤\n",
       "│ sequential (\u001b[38;5;33mSequential\u001b[0m)         │ (\u001b[38;5;45mNone\u001b[0m, \u001b[38;5;34m128\u001b[0m, \u001b[38;5;34m128\u001b[0m, \u001b[38;5;34m3\u001b[0m)    │             \u001b[38;5;34m0\u001b[0m │\n",
       "├─────────────────────────────────┼────────────────────────┼───────────────┤\n",
       "│ resnet50 (\u001b[38;5;33mFunctional\u001b[0m)           │ (\u001b[38;5;45mNone\u001b[0m, \u001b[38;5;34m4\u001b[0m, \u001b[38;5;34m4\u001b[0m, \u001b[38;5;34m2048\u001b[0m)     │    \u001b[38;5;34m23,587,712\u001b[0m │\n",
       "├─────────────────────────────────┼────────────────────────┼───────────────┤\n",
       "│ global_average_pooling2d        │ (\u001b[38;5;45mNone\u001b[0m, \u001b[38;5;34m2048\u001b[0m)           │             \u001b[38;5;34m0\u001b[0m │\n",
       "│ (\u001b[38;5;33mGlobalAveragePooling2D\u001b[0m)        │                        │               │\n",
       "├─────────────────────────────────┼────────────────────────┼───────────────┤\n",
       "│ dense (\u001b[38;5;33mDense\u001b[0m)                   │ (\u001b[38;5;45mNone\u001b[0m, \u001b[38;5;34m1024\u001b[0m)           │     \u001b[38;5;34m2,098,176\u001b[0m │\n",
       "├─────────────────────────────────┼────────────────────────┼───────────────┤\n",
       "│ dense_1 (\u001b[38;5;33mDense\u001b[0m)                 │ (\u001b[38;5;45mNone\u001b[0m, \u001b[38;5;34m2\u001b[0m)              │         \u001b[38;5;34m2,050\u001b[0m │\n",
       "└─────────────────────────────────┴────────────────────────┴───────────────┘\n"
      ]
     },
     "metadata": {},
     "output_type": "display_data"
    },
    {
     "data": {
      "text/html": [
       "<pre style=\"white-space:pre;overflow-x:auto;line-height:normal;font-family:Menlo,'DejaVu Sans Mono',consolas,'Courier New',monospace\"><span style=\"font-weight: bold\"> Total params: </span><span style=\"color: #00af00; text-decoration-color: #00af00\">25,687,938</span> (97.99 MB)\n",
       "</pre>\n"
      ],
      "text/plain": [
       "\u001b[1m Total params: \u001b[0m\u001b[38;5;34m25,687,938\u001b[0m (97.99 MB)\n"
      ]
     },
     "metadata": {},
     "output_type": "display_data"
    },
    {
     "data": {
      "text/html": [
       "<pre style=\"white-space:pre;overflow-x:auto;line-height:normal;font-family:Menlo,'DejaVu Sans Mono',consolas,'Courier New',monospace\"><span style=\"font-weight: bold\"> Trainable params: </span><span style=\"color: #00af00; text-decoration-color: #00af00\">2,100,226</span> (8.01 MB)\n",
       "</pre>\n"
      ],
      "text/plain": [
       "\u001b[1m Trainable params: \u001b[0m\u001b[38;5;34m2,100,226\u001b[0m (8.01 MB)\n"
      ]
     },
     "metadata": {},
     "output_type": "display_data"
    },
    {
     "data": {
      "text/html": [
       "<pre style=\"white-space:pre;overflow-x:auto;line-height:normal;font-family:Menlo,'DejaVu Sans Mono',consolas,'Courier New',monospace\"><span style=\"font-weight: bold\"> Non-trainable params: </span><span style=\"color: #00af00; text-decoration-color: #00af00\">23,587,712</span> (89.98 MB)\n",
       "</pre>\n"
      ],
      "text/plain": [
       "\u001b[1m Non-trainable params: \u001b[0m\u001b[38;5;34m23,587,712\u001b[0m (89.98 MB)\n"
      ]
     },
     "metadata": {},
     "output_type": "display_data"
    }
   ],
   "source": [
    "from tensorflow.keras import layers, models\n",
    "from tensorflow.keras.applications import ResNet50\n",
    "\n",
    "imagen_alto = 128\n",
    "imagen_ancho = 128\n",
    "canales_de_color = 3\n",
    "num_clases = 2  # Número de clases\n",
    "\n",
    "data_augmentation = models.Sequential([\n",
    "    layers.RandomFlip(\"horizontal\"),\n",
    "    layers.RandomRotation(0.2),\n",
    "    layers.RandomZoom(0.2),\n",
    "    layers.RandomContrast(0.2),\n",
    "])\n",
    "\n",
    "base_model = ResNet50(weights='imagenet', include_top=False, input_shape=(imagen_alto, imagen_ancho, canales_de_color))\n",
    "base_model.trainable = False\n",
    "\n",
    "inputs = layers.Input(shape=(imagen_alto, imagen_ancho, canales_de_color))\n",
    "x = data_augmentation(inputs)\n",
    "x = base_model(x, training=False)\n",
    "x = layers.GlobalAveragePooling2D()(x)\n",
    "x = layers.Dense(1024, activation='relu')(x)\n",
    "predictions = layers.Dense(num_clases, activation='softmax')(x)  # Cambiado a softmax para clasificación múltiple\n",
    "\n",
    "model = models.Model(inputs=inputs, outputs=predictions)\n",
    "\n",
    "model.compile(optimizer='adam', loss='categorical_crossentropy', metrics=['accuracy'])\n",
    "\n",
    "model.summary()\n"
   ]
  },
  {
   "cell_type": "markdown",
   "metadata": {},
   "source": [
    "# Importar datos desde disco"
   ]
  },
  {
   "cell_type": "code",
   "execution_count": 2,
   "metadata": {},
   "outputs": [
    {
     "name": "stdout",
     "output_type": "stream",
     "text": [
      "Found 131778 files belonging to 2 classes.\n",
      "Using 105423 files for training.\n",
      "Found 131778 files belonging to 2 classes.\n",
      "Using 26355 files for validation.\n",
      "Epoch 1/10\n",
      "\u001b[1m3295/3295\u001b[0m \u001b[32m━━━━━━━━━━━━━━━━━━━━\u001b[0m\u001b[37m\u001b[0m \u001b[1m3019s\u001b[0m 914ms/step - accuracy: 0.6574 - loss: 0.6240 - val_accuracy: 0.6886 - val_loss: 0.5938\n",
      "Epoch 2/10\n",
      "\u001b[1m2198/3295\u001b[0m \u001b[32m━━━━━━━━━━━━━\u001b[0m\u001b[37m━━━━━━━\u001b[0m \u001b[1m12:54\u001b[0m 706ms/step - accuracy: 0.6803 - loss: 0.6045"
     ]
    }
   ],
   "source": [
    "from tensorflow.keras.preprocessing import image_dataset_from_directory\n",
    "\n",
    "# Parámetros\n",
    "data_dir = 'data'\n",
    "batch_size = 32\n",
    "img_height = 128\n",
    "img_width = 128\n",
    "\n",
    "# Generador de entrenamiento\n",
    "train_dataset = image_dataset_from_directory(\n",
    "    data_dir,\n",
    "    validation_split=0.2,   # 80% entrenamiento, 20% validación\n",
    "    subset=\"training\",      # Usar el conjunto de entrenamiento\n",
    "    seed=123,\n",
    "    image_size=(img_height, img_width),\n",
    "    batch_size=batch_size,\n",
    "    label_mode='categorical'\n",
    ").map(lambda x, y: (x / 255.0, y))  # Normalizar las imágenes\n",
    "\n",
    "# Generador de validación\n",
    "val_dataset = image_dataset_from_directory(\n",
    "    data_dir,\n",
    "    validation_split=0.2,   # 20% validación\n",
    "    subset=\"validation\",    # Usar el conjunto de validación\n",
    "    seed=123,\n",
    "    image_size=(img_height, img_width),\n",
    "    batch_size=batch_size,\n",
    "    label_mode='categorical'\n",
    ").map(lambda x, y: (x / 255.0, y))  # Normalizar las imágenes\n"
   ]
  },
  {
   "cell_type": "markdown",
   "metadata": {},
   "source": [
    "# Entrenar el modelo"
   ]
  },
  {
   "cell_type": "code",
   "execution_count": null,
   "metadata": {},
   "outputs": [],
   "source": [
    "# Entrenar el modelo con el generador de entrenamiento y validar en cada época\n",
    "history = model.fit(\n",
    "    train_dataset,\n",
    "    epochs=10,\n",
    "    validation_data=val_dataset  # Usar validación para medir el desempeño\n",
    ")"
   ]
  },
  {
   "cell_type": "markdown",
   "metadata": {},
   "source": [
    "# Guardado del entrenamiento"
   ]
  },
  {
   "cell_type": "code",
   "execution_count": 9,
   "metadata": {},
   "outputs": [],
   "source": [
    "from datetime import datetime\n",
    "\n",
    "now = datetime.now().strftime(\"%Y%m%d%H%M%S\")\n",
    "\n",
    "model.save_weights(f'pesos_modelo_cnn_{now}.weights.h5')\n",
    "model.save(filepath=f'modelo_cnn_{now}.h5')"
   ]
  },
  {
   "cell_type": "code",
   "execution_count": 38,
   "metadata": {},
   "outputs": [],
   "source": [
    "# Make a sound when done\n",
    "\n",
    "import winsound\n",
    "frequency = 880  # Set Frequency To 2500 Hertz\n",
    "\n",
    "duration = 700  # Set Duration To 1000 ms == 1 second\n",
    "\n",
    "winsound.Beep(frequency, duration)\n"
   ]
  },
  {
   "cell_type": "code",
   "execution_count": null,
   "metadata": {},
   "outputs": [],
   "source": [
    "# Mostrar la matriz de confusión\n",
    "from sklearn.metrics import confusion_matrix\n",
    "import seaborn\n",
    "import pandas\n",
    "\n",
    "\n",
    "clases = ['class_A', 'class_B']\n",
    "# Obtener las predicciones del modelo\n",
    "predicciones = model.predict(imagenes_validacion)\n",
    "\n",
    "# Convertir las predicciones a etiquetas\n",
    "predicciones = np.where(predicciones > 0.5, 1, 0)\n",
    "\n",
    "# Calcular la matriz de confusión\n",
    "cm = confusion_matrix(etiquetas_validacion, predicciones)\n",
    "\n",
    "# Crear un DataFrame de pandas con la matriz de confusión\n",
    "df = pandas.DataFrame(cm, index=clases, columns=clases)\n",
    "\n",
    "\n",
    "# Mostrar la matriz de confusión\n",
    "seaborn.heatmap(df, annot=True, cmap='Blues')\n",
    "plt.xlabel('Clase predicha')\n",
    "plt.ylabel('Clase real')\n",
    "plt.title('Matriz de confusión')\n",
    "plt.show()\n"
   ]
  },
  {
   "cell_type": "markdown",
   "metadata": {},
   "source": [
    "# Cargar el modelo y los pesos"
   ]
  },
  {
   "cell_type": "code",
   "execution_count": 9,
   "metadata": {},
   "outputs": [],
   "source": [
    "# loaded_model = models.load_model('modelo_cnn.keras')\n",
    "\n",
    "# loaded_model.load_weights('pesos_modelo_cnn.weights.h5')"
   ]
  },
  {
   "cell_type": "markdown",
   "metadata": {},
   "source": [
    "# Cargar una imagen de prueba"
   ]
  },
  {
   "cell_type": "code",
   "execution_count": null,
   "metadata": {},
   "outputs": [],
   "source": [
    "import os\n",
    "\n",
    "OPENSLIDE_PATH = r'C:\\Users\\achav\\Documents\\Osteoartritis\\openslide-win64\\bin'\n",
    "\n",
    "if hasattr(os, 'add_dll_directory'):\n",
    "    # Windows\n",
    "    with os.add_dll_directory(OPENSLIDE_PATH):\n",
    "        import openslide\n",
    "        print('Using OpenSlide from', openslide.__file__)\n",
    "else:\n",
    "    import openslide\n",
    "\n",
    "plate_name = \"Ms-13-22-1_001\"\n",
    "plate_path = plate_name + \".svs\"\n",
    "path = f\"assets/{plate_path}\"\n",
    "\n",
    "# Check if file exists\n",
    "if not os.path.isfile(path):\n",
    "    print(f\"File {path} not found\")\n",
    "\n",
    "slide = openslide.OpenSlide(path)\n",
    "\n",
    "# Get a thumbnail of the whole slide\n",
    "thumbnail = slide.get_thumbnail((slide.dimensions[0] // 64, slide.dimensions[1] // 64))\n",
    "\n",
    "# Convert the thumbnail to a numpy array\n",
    "thumbnail = np.array(thumbnail)\n",
    "\n",
    "# Display the thumbnail\n",
    "plt.imshow(thumbnail)\n",
    "\n",
    "plate_name = \"Ms-13-22-1_001\"\n",
    "plate_path = plate_name + \".svs\"\n",
    "path = f\"assets/{plate_path}\"\n",
    "\n",
    "# Check if file exists\n",
    "if not os.path.isfile(path):\n",
    "    print(f\"File {path} not found\")\n",
    "\n",
    "slide = openslide.OpenSlide(path)\n",
    "\n",
    "# Get a thumbnail of the whole slide\n",
    "thumbnail = slide.get_thumbnail((slide.dimensions[0] // 64, slide.dimensions[1] // 64))\n",
    "\n",
    "# Convert the thumbnail to a numpy array\n",
    "thumbnail = np.array(thumbnail)\n",
    "\n",
    "# Display the thumbnail\n",
    "plt.imshow(thumbnail)"
   ]
  },
  {
   "cell_type": "code",
   "execution_count": null,
   "metadata": {},
   "outputs": [],
   "source": [
    "from collections import defaultdict\n",
    "\n",
    "from time import sleep\n",
    "\n",
    "class_colors = {0: (255, 0, 0), 1: (0, 255, 0), 2: (0, 0, 255)}\n",
    "level = 0\n",
    "\n",
    "# Get the dimensions of the slide\n",
    "width, height = slide.level_dimensions[level]\n",
    "\n",
    "print(slide.level_dimensions)\n",
    "print(slide.level_downsamples)\n",
    "print(width, height)\n",
    "\n",
    "# Create a count dict to store the number of tiles for each class\n",
    "count = defaultdict(int)\n",
    "\n",
    "original = np.array(slide.read_region((0, 0), level, (width, height)).convert(\"RGB\"))\n",
    "\n",
    "# Convert the image to a numpy array\n",
    "# results = np.zeros((width, height, 3), dtype=np.uint8)\n",
    "\n",
    "# print(results.shape)\n",
    "for i in range(0, 1023, 1024):\n",
    "    print(f\"i: {i} / {height}\")\n",
    "    for j in range(0, 1023, 1024):\n",
    "        print(f\"j: {j} / {width}\")\n",
    "        try:\n",
    "            \n",
    "            image = slide.read_region((i, j), level, (256, 256)).convert(\"RGB\")\n",
    "            # Show thumbnail\n",
    "            image = image.resize((128, 128))  # Ajustar al tamaño esperado por el modelo\n",
    "            image = np.array(image)\n",
    "            # plt.imshow(image)\n",
    "\n",
    "            # Asegurarse de que la imagen tiene la forma correcta (128, 128, 3)\n",
    "            image = np.expand_dims(image, axis=0)  # Añadir una dimensión para el batch\n",
    "            # Hacer predicción con el modelo\n",
    "            prediction = model.predict(image, verbose=0)\n",
    "            print(prediction)\n",
    "            # Obtener la clase con la mayor probabilidad\n",
    "            prediction = np.argmax(prediction)\n",
    "            # print(f\"Prediction: {prediction}\")\n",
    "            \n",
    "            # Pintar la región de la imagen original con el color de la clase predicha\n",
    "            # cv2.rectangle(original, (i, j), (i + 256, j + 256), class_colors[prediction], 100)\n",
    "            # cv2.rectangle(results, (i, j), (i + 256, j + 256), class_colors[prediction], -1)\n",
    "            \n",
    "            # Ajustar el tamaño del bloque a 4x4 en la matriz de resultados\n",
    "            count[prediction] += 1\n",
    "\n",
    "        except Exception as e:\n",
    "            winsound.Beep(880, 1000)\n",
    "            print(e)\n",
    "\n",
    "\n",
    "        # Compare original image with the predicted image\n",
    "        #plt.figure(figsize=(10, 10))\n",
    "        #plt.subplot(1, 2, 1)\n",
    "        #thumbnail = cv2.resize(original, (width // 64, height// 64))\n",
    "        #plt.imshow(thumbnail)\n",
    "        #plt.title(\"Original Image\")\n",
    "        #plt.axis(\"off\")\n",
    "\n",
    "        #plt.subplot(1, 2, 2)\n",
    "\n",
    "        ## Resize the results to the same size as the original image\n",
    "        #resultados = cv2.resize(results, (thumbnail.shape[1], thumbnail.shape[0]))\n",
    "\n",
    "        #plt.imshow(resultados)\n",
    "        #plt.title(\"Predicted Image\")\n",
    "        #plt.axis(\"off\")\n",
    "\n",
    "        #plt.show()\n",
    "        \n",
    "\n",
    "# Reduce in a factor of 4\n",
    "# cv2.imwrite(\"original.png\", cv2.resize(thumbnail, (width, height), interpolation=cv2.INTER_NEAREST))\n",
    "# cv2.imwrite(\"results.png\", cv2.resize(results, (width, height), interpolation=cv2.INTER_NEAREST))\n",
    "\n",
    "winsound.Beep(880, 1000)\n",
    "print(count)"
   ]
  },
  {
   "cell_type": "code",
   "execution_count": null,
   "metadata": {},
   "outputs": [],
   "source": [
    "# Compare original image with the predicted image\n",
    "plt.figure(figsize=(10, 10))\n",
    "plt.subplot(1, 2, 1)\n",
    "plt.imshow(thumbnail)\n",
    "plt.title(\"Original Image\")\n",
    "plt.axis(\"off\")\n",
    "\n",
    "plt.subplot(1, 2, 2)\n",
    "\n",
    "# Resize the results to the same size as the original image\n",
    "results = cv2.resize(results, (thumbnail.shape[1], thumbnail.shape[0]))\n",
    "\n",
    "plt.imshow(results)\n",
    "plt.title(\"Predicted Image\")\n",
    "plt.axis(\"off\")\n",
    "\n",
    "plt.show()"
   ]
  }
 ],
 "metadata": {
  "kernelspec": {
   "display_name": "venv",
   "language": "python",
   "name": "python3"
  },
  "language_info": {
   "codemirror_mode": {
    "name": "ipython",
    "version": 3
   },
   "file_extension": ".py",
   "mimetype": "text/x-python",
   "name": "python",
   "nbconvert_exporter": "python",
   "pygments_lexer": "ipython3",
   "version": "3.11.9"
  }
 },
 "nbformat": 4,
 "nbformat_minor": 2
}
