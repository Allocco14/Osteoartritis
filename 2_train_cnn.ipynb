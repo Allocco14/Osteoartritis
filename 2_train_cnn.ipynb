{
 "cells": [
  {
   "cell_type": "markdown",
   "metadata": {},
   "source": [
    "# Importación de datos"
   ]
  },
  {
   "cell_type": "code",
   "execution_count": 3,
   "metadata": {},
   "outputs": [
    {
     "name": "stdout",
     "output_type": "stream",
     "text": [
      "(73300, 128, 128, 3)\n",
      "(73300,)\n"
     ]
    }
   ],
   "source": [
    "import os\n",
    "import cv2\n",
    "import numpy as np\n",
    "import pathlib\n",
    "import matplotlib.pyplot as plt\n",
    "\n",
    "data_dir = pathlib.Path('assets')\n",
    "\n",
    "# Lista para almacenar las imágenes y etiquetas\n",
    "imagenes = []\n",
    "etiquetas = []\n",
    "\n",
    "# Clases disponibles\n",
    "clases = ['class_A', 'class_B', 'class_C',]\n",
    "\n",
    "# Recorrer las carpetas de las clases\n",
    "for plate in os.listdir(data_dir):\n",
    "    for clase in clases:\n",
    "        for file in os.listdir(data_dir / plate / 'resized' / clase):\n",
    "            # Leer la imagen\n",
    "            imagen = cv2.imread(str(data_dir / plate / 'resized' / clase / file), cv2.IMREAD_COLOR)\n",
    "\n",
    "            # Agregar la imagen a la lista\n",
    "            imagenes.append(imagen)\n",
    "            # Agregar la etiqueta a la lista en el formato 0 o 1\n",
    "            etiquetas.append(0 if clase == 'class_B' else 1)\n",
    "\n",
    "# Convertir las listas de imágenes y etiquetas a arrays numpy\n",
    "imagenes = np.array(imagenes)\n",
    "\n",
    "etiquetas = np.array(etiquetas)\n",
    "\n",
    "print(imagenes.shape)\n",
    "print(etiquetas.shape)\n"
   ]
  },
  {
   "cell_type": "code",
   "execution_count": null,
   "metadata": {},
   "outputs": [],
   "source": [
    "# # Submuestreo de la clase mayoritaria\n",
    "# \n",
    "# # Contar el número de muestras de cada clase\n",
    "# clase_0 = np.sum(etiquetas == 0)\n",
    "# clase_1 = np.sum(etiquetas == 1)\n",
    "# \n",
    "# # Determinar la clase mayoritaria y la clase minoritaria\n",
    "# clase_mayoritaria = 0 if clase_0 > clase_1 else 1\n",
    "# clase_minoritaria = 1 if clase_mayoritaria == 0 else 0\n",
    "# \n",
    "# # Calcular la diferencia entre el número de muestras de la clase mayoritaria y la clase minoritaria\n",
    "# diferencia = clase_0 - clase_1 if clase_0 > clase_1 else clase_1 - clase_0\n",
    "# \n",
    "# # Encontrar los índices de las muestras de la clase mayoritaria\n",
    "# indices = np.where(etiquetas == clase_mayoritaria)[0]\n",
    "# \n",
    "# # Seleccionar aleatoriamente las muestras de la clase mayoritaria a eliminar\n",
    "# indices = np.random.choice(indices, diferencia, replace=False)\n",
    "# \n",
    "# # Eliminar las muestras de la clase mayoritaria\n",
    "# imagenes = np.delete(imagenes, indices, axis=0)\n",
    "# etiquetas = np.delete(etiquetas, indices, axis=0)\n",
    "# \n",
    "# # Contar el número de muestras de cada clase después del submuestreo\n",
    "# clase_0 = np.sum(etiquetas == 0)\n",
    "# clase_1 = np.sum(etiquetas == 1)\n",
    "# \n",
    "# print(clase_0, clase_1)\n",
    "# \n",
    "# # etiquetas = tf.keras.utils.to_categorical(etiquetas, num_classes=2)\n",
    "# \n",
    "# print(imagenes.shape)\n",
    "# print(etiquetas.shape)\n",
    "# "
   ]
  },
  {
   "cell_type": "code",
   "execution_count": 4,
   "metadata": {},
   "outputs": [
    {
     "name": "stdout",
     "output_type": "stream",
     "text": [
      "65889 65889\n"
     ]
    }
   ],
   "source": [
    "# Oversampling de la clase minoritaria\n",
    "\n",
    "# Contar el número de muestras de cada clase\n",
    "clase_0 = np.sum(etiquetas == 0)\n",
    "clase_1 = np.sum(etiquetas == 1)\n",
    "\n",
    "# Determinar la clase mayoritaria y la clase minoritaria\n",
    "clase_mayoritaria = 0 if clase_0 > clase_1 else 1\n",
    "clase_minoritaria = 1 if clase_mayoritaria == 0 else 0\n",
    "\n",
    "# Calcular la diferencia entre el número de muestras de la clase mayoritaria y la clase minoritaria\n",
    "diferencia = clase_0 - clase_1 if clase_0 > clase_1 else clase_1 - clase_0\n",
    "\n",
    "# Encontrar los índices de las muestras de la clase minoritaria\n",
    "indices = np.where(etiquetas == clase_minoritaria)[0]\n",
    "\n",
    "# Seleccionar aleatoriamente las muestras de la clase minoritaria a duplicar\n",
    "indices = np.random.choice(indices, diferencia, replace=True)\n",
    "\n",
    "# Duplicar las muestras de la clase minoritaria\n",
    "imagenes = np.concatenate((imagenes, imagenes[indices]), axis=0)\n",
    "etiquetas = np.concatenate((etiquetas, etiquetas[indices]), axis=0)\n",
    "\n",
    "# Contar el número de muestras de cada clase después del sobremuestreo\n",
    "clase_0 = np.sum(etiquetas == 0)\n",
    "clase_1 = np.sum(etiquetas == 1)\n",
    "\n",
    "print(clase_0, clase_1)\n",
    "\n",
    "# Guardar las imágenes y etiquetas en un directorio\n",
    "data_clase_A = 'data/clase_A'\n",
    "data_clase_B = 'data/clase_B'\n",
    "\n",
    "if not os.path.exists(data_clase_A):\n",
    "    os.makedirs(data_clase_A)\n",
    "\n",
    "if not os.path.exists(data_clase_B):\n",
    "    os.makedirs(data_clase_B)\n",
    "\n",
    "for i, (imagen, etiqueta) in enumerate(zip(imagenes, etiquetas)):\n",
    "    clase = 'clase_A' if etiqueta == 1 else 'clase_B'\n",
    "    cv2.imwrite(f'{data_clase_A if etiqueta == 1 else data_clase_B}/{clase}_{i}.jpg', imagen)\n"
   ]
  },
  {
   "cell_type": "markdown",
   "metadata": {},
   "source": [
    "# Cargar ResNet50 de base"
   ]
  },
  {
   "cell_type": "code",
   "execution_count": null,
   "metadata": {},
   "outputs": [
    {
     "data": {
      "text/html": [
       "<pre style=\"white-space:pre;overflow-x:auto;line-height:normal;font-family:Menlo,'DejaVu Sans Mono',consolas,'Courier New',monospace\"><span style=\"font-weight: bold\">Model: \"functional_1\"</span>\n",
       "</pre>\n"
      ],
      "text/plain": [
       "\u001b[1mModel: \"functional_1\"\u001b[0m\n"
      ]
     },
     "metadata": {},
     "output_type": "display_data"
    },
    {
     "data": {
      "text/html": [
       "<pre style=\"white-space:pre;overflow-x:auto;line-height:normal;font-family:Menlo,'DejaVu Sans Mono',consolas,'Courier New',monospace\">┏━━━━━━━━━━━━━━━━━━━━━━━━━━━━━━━━━┳━━━━━━━━━━━━━━━━━━━━━━━━┳━━━━━━━━━━━━━━━┓\n",
       "┃<span style=\"font-weight: bold\"> Layer (type)                    </span>┃<span style=\"font-weight: bold\"> Output Shape           </span>┃<span style=\"font-weight: bold\">       Param # </span>┃\n",
       "┡━━━━━━━━━━━━━━━━━━━━━━━━━━━━━━━━━╇━━━━━━━━━━━━━━━━━━━━━━━━╇━━━━━━━━━━━━━━━┩\n",
       "│ input_layer_1 (<span style=\"color: #0087ff; text-decoration-color: #0087ff\">InputLayer</span>)      │ (<span style=\"color: #00d7ff; text-decoration-color: #00d7ff\">None</span>, <span style=\"color: #00af00; text-decoration-color: #00af00\">128</span>, <span style=\"color: #00af00; text-decoration-color: #00af00\">128</span>, <span style=\"color: #00af00; text-decoration-color: #00af00\">3</span>)    │             <span style=\"color: #00af00; text-decoration-color: #00af00\">0</span> │\n",
       "├─────────────────────────────────┼────────────────────────┼───────────────┤\n",
       "│ sequential (<span style=\"color: #0087ff; text-decoration-color: #0087ff\">Sequential</span>)         │ (<span style=\"color: #00d7ff; text-decoration-color: #00d7ff\">None</span>, <span style=\"color: #00af00; text-decoration-color: #00af00\">128</span>, <span style=\"color: #00af00; text-decoration-color: #00af00\">128</span>, <span style=\"color: #00af00; text-decoration-color: #00af00\">3</span>)    │             <span style=\"color: #00af00; text-decoration-color: #00af00\">0</span> │\n",
       "├─────────────────────────────────┼────────────────────────┼───────────────┤\n",
       "│ resnet50 (<span style=\"color: #0087ff; text-decoration-color: #0087ff\">Functional</span>)           │ (<span style=\"color: #00d7ff; text-decoration-color: #00d7ff\">None</span>, <span style=\"color: #00af00; text-decoration-color: #00af00\">4</span>, <span style=\"color: #00af00; text-decoration-color: #00af00\">4</span>, <span style=\"color: #00af00; text-decoration-color: #00af00\">2048</span>)     │    <span style=\"color: #00af00; text-decoration-color: #00af00\">23,587,712</span> │\n",
       "├─────────────────────────────────┼────────────────────────┼───────────────┤\n",
       "│ global_average_pooling2d        │ (<span style=\"color: #00d7ff; text-decoration-color: #00d7ff\">None</span>, <span style=\"color: #00af00; text-decoration-color: #00af00\">2048</span>)           │             <span style=\"color: #00af00; text-decoration-color: #00af00\">0</span> │\n",
       "│ (<span style=\"color: #0087ff; text-decoration-color: #0087ff\">GlobalAveragePooling2D</span>)        │                        │               │\n",
       "├─────────────────────────────────┼────────────────────────┼───────────────┤\n",
       "│ dense (<span style=\"color: #0087ff; text-decoration-color: #0087ff\">Dense</span>)                   │ (<span style=\"color: #00d7ff; text-decoration-color: #00d7ff\">None</span>, <span style=\"color: #00af00; text-decoration-color: #00af00\">1024</span>)           │     <span style=\"color: #00af00; text-decoration-color: #00af00\">2,098,176</span> │\n",
       "├─────────────────────────────────┼────────────────────────┼───────────────┤\n",
       "│ dense_1 (<span style=\"color: #0087ff; text-decoration-color: #0087ff\">Dense</span>)                 │ (<span style=\"color: #00d7ff; text-decoration-color: #00d7ff\">None</span>, <span style=\"color: #00af00; text-decoration-color: #00af00\">2</span>)              │         <span style=\"color: #00af00; text-decoration-color: #00af00\">2,050</span> │\n",
       "└─────────────────────────────────┴────────────────────────┴───────────────┘\n",
       "</pre>\n"
      ],
      "text/plain": [
       "┏━━━━━━━━━━━━━━━━━━━━━━━━━━━━━━━━━┳━━━━━━━━━━━━━━━━━━━━━━━━┳━━━━━━━━━━━━━━━┓\n",
       "┃\u001b[1m \u001b[0m\u001b[1mLayer (type)                   \u001b[0m\u001b[1m \u001b[0m┃\u001b[1m \u001b[0m\u001b[1mOutput Shape          \u001b[0m\u001b[1m \u001b[0m┃\u001b[1m \u001b[0m\u001b[1m      Param #\u001b[0m\u001b[1m \u001b[0m┃\n",
       "┡━━━━━━━━━━━━━━━━━━━━━━━━━━━━━━━━━╇━━━━━━━━━━━━━━━━━━━━━━━━╇━━━━━━━━━━━━━━━┩\n",
       "│ input_layer_1 (\u001b[38;5;33mInputLayer\u001b[0m)      │ (\u001b[38;5;45mNone\u001b[0m, \u001b[38;5;34m128\u001b[0m, \u001b[38;5;34m128\u001b[0m, \u001b[38;5;34m3\u001b[0m)    │             \u001b[38;5;34m0\u001b[0m │\n",
       "├─────────────────────────────────┼────────────────────────┼───────────────┤\n",
       "│ sequential (\u001b[38;5;33mSequential\u001b[0m)         │ (\u001b[38;5;45mNone\u001b[0m, \u001b[38;5;34m128\u001b[0m, \u001b[38;5;34m128\u001b[0m, \u001b[38;5;34m3\u001b[0m)    │             \u001b[38;5;34m0\u001b[0m │\n",
       "├─────────────────────────────────┼────────────────────────┼───────────────┤\n",
       "│ resnet50 (\u001b[38;5;33mFunctional\u001b[0m)           │ (\u001b[38;5;45mNone\u001b[0m, \u001b[38;5;34m4\u001b[0m, \u001b[38;5;34m4\u001b[0m, \u001b[38;5;34m2048\u001b[0m)     │    \u001b[38;5;34m23,587,712\u001b[0m │\n",
       "├─────────────────────────────────┼────────────────────────┼───────────────┤\n",
       "│ global_average_pooling2d        │ (\u001b[38;5;45mNone\u001b[0m, \u001b[38;5;34m2048\u001b[0m)           │             \u001b[38;5;34m0\u001b[0m │\n",
       "│ (\u001b[38;5;33mGlobalAveragePooling2D\u001b[0m)        │                        │               │\n",
       "├─────────────────────────────────┼────────────────────────┼───────────────┤\n",
       "│ dense (\u001b[38;5;33mDense\u001b[0m)                   │ (\u001b[38;5;45mNone\u001b[0m, \u001b[38;5;34m1024\u001b[0m)           │     \u001b[38;5;34m2,098,176\u001b[0m │\n",
       "├─────────────────────────────────┼────────────────────────┼───────────────┤\n",
       "│ dense_1 (\u001b[38;5;33mDense\u001b[0m)                 │ (\u001b[38;5;45mNone\u001b[0m, \u001b[38;5;34m2\u001b[0m)              │         \u001b[38;5;34m2,050\u001b[0m │\n",
       "└─────────────────────────────────┴────────────────────────┴───────────────┘\n"
      ]
     },
     "metadata": {},
     "output_type": "display_data"
    },
    {
     "data": {
      "text/html": [
       "<pre style=\"white-space:pre;overflow-x:auto;line-height:normal;font-family:Menlo,'DejaVu Sans Mono',consolas,'Courier New',monospace\"><span style=\"font-weight: bold\"> Total params: </span><span style=\"color: #00af00; text-decoration-color: #00af00\">25,687,938</span> (97.99 MB)\n",
       "</pre>\n"
      ],
      "text/plain": [
       "\u001b[1m Total params: \u001b[0m\u001b[38;5;34m25,687,938\u001b[0m (97.99 MB)\n"
      ]
     },
     "metadata": {},
     "output_type": "display_data"
    },
    {
     "data": {
      "text/html": [
       "<pre style=\"white-space:pre;overflow-x:auto;line-height:normal;font-family:Menlo,'DejaVu Sans Mono',consolas,'Courier New',monospace\"><span style=\"font-weight: bold\"> Trainable params: </span><span style=\"color: #00af00; text-decoration-color: #00af00\">2,100,226</span> (8.01 MB)\n",
       "</pre>\n"
      ],
      "text/plain": [
       "\u001b[1m Trainable params: \u001b[0m\u001b[38;5;34m2,100,226\u001b[0m (8.01 MB)\n"
      ]
     },
     "metadata": {},
     "output_type": "display_data"
    },
    {
     "data": {
      "text/html": [
       "<pre style=\"white-space:pre;overflow-x:auto;line-height:normal;font-family:Menlo,'DejaVu Sans Mono',consolas,'Courier New',monospace\"><span style=\"font-weight: bold\"> Non-trainable params: </span><span style=\"color: #00af00; text-decoration-color: #00af00\">23,587,712</span> (89.98 MB)\n",
       "</pre>\n"
      ],
      "text/plain": [
       "\u001b[1m Non-trainable params: \u001b[0m\u001b[38;5;34m23,587,712\u001b[0m (89.98 MB)\n"
      ]
     },
     "metadata": {},
     "output_type": "display_data"
    }
   ],
   "source": [
    "from tensorflow.keras import layers, models\n",
    "from tensorflow.keras.applications import ResNet50\n",
    "\n",
    "imagen_alto = 128\n",
    "imagen_ancho = 128\n",
    "canales_de_color = 3\n",
    "num_clases = 2  # Número de clases\n",
    "\n",
    "data_augmentation = models.Sequential([\n",
    "    layers.RandomFlip(\"horizontal\"),\n",
    "    layers.RandomRotation(0.2),\n",
    "    layers.RandomZoom(0.2),\n",
    "    layers.RandomContrast(0.2),\n",
    "])\n",
    "\n",
    "base_model = ResNet50(weights='imagenet', include_top=False, input_shape=(imagen_alto, imagen_ancho, canales_de_color))\n",
    "base_model.trainable = False\n",
    "\n",
    "inputs = layers.Input(shape=(imagen_alto, imagen_ancho, canales_de_color))\n",
    "x = data_augmentation(inputs)\n",
    "x = base_model(x, training=False)\n",
    "x = layers.GlobalAveragePooling2D()(x)\n",
    "x = layers.Dense(1024, activation='relu')(x)\n",
    "predictions = layers.Dense(num_clases, activation='softmax')(x)  # Cambiado a softmax para clasificación múltiple\n",
    "\n",
    "model = models.Model(inputs=inputs, outputs=predictions)\n",
    "\n",
    "model.compile(optimizer='adam', loss='categorical_crossentropy', metrics=['accuracy'])\n",
    "\n",
    "model.summary()\n"
   ]
  },
  {
   "cell_type": "markdown",
   "metadata": {},
   "source": [
    "# Importar datos desde disco"
   ]
  },
  {
   "cell_type": "code",
   "execution_count": 2,
   "metadata": {},
   "outputs": [
    {
     "name": "stdout",
     "output_type": "stream",
     "text": [
      "Found 131778 files belonging to 2 classes.\n",
      "Using 105423 files for training.\n",
      "Found 131778 files belonging to 2 classes.\n",
      "Using 26355 files for validation.\n",
      "Epoch 1/10\n",
      "\u001b[1m3295/3295\u001b[0m \u001b[32m━━━━━━━━━━━━━━━━━━━━\u001b[0m\u001b[37m\u001b[0m \u001b[1m3019s\u001b[0m 914ms/step - accuracy: 0.6574 - loss: 0.6240 - val_accuracy: 0.6886 - val_loss: 0.5938\n",
      "Epoch 2/10\n",
      "\u001b[1m3295/3295\u001b[0m \u001b[32m━━━━━━━━━━━━━━━━━━━━\u001b[0m\u001b[37m\u001b[0m \u001b[1m2866s\u001b[0m 870ms/step - accuracy: 0.6804 - loss: 0.6043 - val_accuracy: 0.6907 - val_loss: 0.5909\n",
      "Epoch 3/10\n",
      "\u001b[1m3295/3295\u001b[0m \u001b[32m━━━━━━━━━━━━━━━━━━━━\u001b[0m\u001b[37m\u001b[0m \u001b[1m2856s\u001b[0m 867ms/step - accuracy: 0.6839 - loss: 0.6010 - val_accuracy: 0.6967 - val_loss: 0.5808\n",
      "Epoch 4/10\n",
      "\u001b[1m3295/3295\u001b[0m \u001b[32m━━━━━━━━━━━━━━━━━━━━\u001b[0m\u001b[37m\u001b[0m \u001b[1m2826s\u001b[0m 858ms/step - accuracy: 0.6855 - loss: 0.5971 - val_accuracy: 0.6990 - val_loss: 0.5788\n",
      "Epoch 5/10\n",
      "\u001b[1m3295/3295\u001b[0m \u001b[32m━━━━━━━━━━━━━━━━━━━━\u001b[0m\u001b[37m\u001b[0m \u001b[1m2994s\u001b[0m 909ms/step - accuracy: 0.6886 - loss: 0.5929 - val_accuracy: 0.6972 - val_loss: 0.5786\n",
      "Epoch 6/10\n",
      "\u001b[1m3295/3295\u001b[0m \u001b[32m━━━━━━━━━━━━━━━━━━━━\u001b[0m\u001b[37m\u001b[0m \u001b[1m3029s\u001b[0m 919ms/step - accuracy: 0.6896 - loss: 0.5917 - val_accuracy: 0.7045 - val_loss: 0.5728\n",
      "Epoch 7/10\n",
      "\u001b[1m3295/3295\u001b[0m \u001b[32m━━━━━━━━━━━━━━━━━━━━\u001b[0m\u001b[37m\u001b[0m \u001b[1m2925s\u001b[0m 888ms/step - accuracy: 0.6887 - loss: 0.5907 - val_accuracy: 0.6739 - val_loss: 0.6030\n",
      "Epoch 8/10\n",
      "\u001b[1m3295/3295\u001b[0m \u001b[32m━━━━━━━━━━━━━━━━━━━━\u001b[0m\u001b[37m\u001b[0m \u001b[1m2938s\u001b[0m 892ms/step - accuracy: 0.6887 - loss: 0.5902 - val_accuracy: 0.6930 - val_loss: 0.5808\n",
      "Epoch 9/10\n",
      "\u001b[1m3295/3295\u001b[0m \u001b[32m━━━━━━━━━━━━━━━━━━━━\u001b[0m\u001b[37m\u001b[0m \u001b[1m2815s\u001b[0m 854ms/step - accuracy: 0.6913 - loss: 0.5870 - val_accuracy: 0.7026 - val_loss: 0.5673\n",
      "Epoch 10/10\n",
      "\u001b[1m3295/3295\u001b[0m \u001b[32m━━━━━━━━━━━━━━━━━━━━\u001b[0m\u001b[37m\u001b[0m \u001b[1m2850s\u001b[0m 865ms/step - accuracy: 0.6925 - loss: 0.5842 - val_accuracy: 0.6941 - val_loss: 0.5795\n"
     ]
    }
   ],
   "source": [
    "from tensorflow.keras.preprocessing import image_dataset_from_directory\n",
    "\n",
    "# Parámetros\n",
    "data_dir = 'data'\n",
    "batch_size = 32\n",
    "img_height = 128\n",
    "img_width = 128\n",
    "\n",
    "# Generador de entrenamiento\n",
    "train_dataset = image_dataset_from_directory(\n",
    "    data_dir,\n",
    "    validation_split=0.2,   # 80% entrenamiento, 20% validación\n",
    "    subset=\"training\",      # Usar el conjunto de entrenamiento\n",
    "    seed=123,\n",
    "    image_size=(img_height, img_width),\n",
    "    batch_size=batch_size,\n",
    "    label_mode='categorical'\n",
    ").map(lambda x, y: (x / 255.0, y))  # Normalizar las imágenes\n",
    "\n",
    "# Generador de validación\n",
    "val_dataset = image_dataset_from_directory(\n",
    "    data_dir,\n",
    "    validation_split=0.2,   # 20% validación\n",
    "    subset=\"validation\",    # Usar el conjunto de validación\n",
    "    seed=123,\n",
    "    image_size=(img_height, img_width),\n",
    "    batch_size=batch_size,\n",
    "    label_mode='categorical'\n",
    ").map(lambda x, y: (x / 255.0, y))  # Normalizar las imágenes\n"
   ]
  },
  {
   "cell_type": "markdown",
   "metadata": {},
   "source": [
    "# Entrenar el modelo"
   ]
  },
  {
   "cell_type": "code",
   "execution_count": null,
   "metadata": {},
   "outputs": [],
   "source": [
    "# Entrenar el modelo con el generador de entrenamiento y validar en cada época\n",
    "history = model.fit(\n",
    "    train_dataset,\n",
    "    epochs=10,\n",
    "    validation_data=val_dataset  # Usar validación para medir el desempeño\n",
    ")"
   ]
  },
  {
   "cell_type": "markdown",
   "metadata": {},
   "source": [
    "# Guardado del entrenamiento"
   ]
  },
  {
   "cell_type": "code",
   "execution_count": 5,
   "metadata": {},
   "outputs": [],
   "source": [
    "from datetime import datetime\n",
    "\n",
    "now = datetime.now().strftime(\"%Y%m%d%H%M%S\")\n",
    "\n",
    "model.save_weights(f'pesos_modelo_cnn_{now}.weights.h5')\n",
    "model.save(filepath=f'modelo_cnn_{now}.keras')"
   ]
  },
  {
   "cell_type": "code",
   "execution_count": 38,
   "metadata": {},
   "outputs": [],
   "source": [
    "# Make a sound when done\n",
    "\n",
    "import winsound\n",
    "frequency = 880  # Set Frequency To 2500 Hertz\n",
    "\n",
    "duration = 700  # Set Duration To 1000 ms == 1 second\n",
    "\n",
    "winsound.Beep(frequency, duration)\n"
   ]
  },
  {
   "cell_type": "code",
   "execution_count": null,
   "metadata": {},
   "outputs": [],
   "source": [
    "# Mostrar la matriz de confusión\n",
    "from sklearn.metrics import confusion_matrix\n",
    "import seaborn\n",
    "import pandas\n",
    "\n",
    "\n",
    "clases = ['class_A', 'class_B']\n",
    "# Obtener las predicciones del modelo\n",
    "predicciones = model.predict(\n",
    "    val_dataset,\n",
    "    verbose=1\n",
    ")[:, 1]\n",
    "\n",
    "# Convertir las predicciones a etiquetas\n",
    "predicciones = np.where(predicciones > 0.5, 1, 0)\n",
    "\n",
    "# Calcular la matriz de confusión\n",
    "cm = confusion_matrix(val_dataset.labels, predicciones)\n",
    "\n",
    "# Crear un DataFrame de pandas con la matriz de confusión\n",
    "df = pandas.DataFrame(cm, index=clases, columns=clases)\n",
    "\n",
    "\n",
    "# Mostrar la matriz de confusión\n",
    "seaborn.heatmap(df, annot=True, cmap='Blues')\n",
    "plt.xlabel('Clase predicha')\n",
    "plt.ylabel('Clase real')\n",
    "plt.title('Matriz de confusión')\n",
    "plt.show()\n"
   ]
  }
 ],
 "metadata": {
  "kernelspec": {
   "display_name": "venv",
   "language": "python",
   "name": "python3"
  },
  "language_info": {
   "codemirror_mode": {
    "name": "ipython",
    "version": 3
   },
   "file_extension": ".py",
   "mimetype": "text/x-python",
   "name": "python",
   "nbconvert_exporter": "python",
   "pygments_lexer": "ipython3",
   "version": "3.11.9"
  }
 },
 "nbformat": 4,
 "nbformat_minor": 2
}
