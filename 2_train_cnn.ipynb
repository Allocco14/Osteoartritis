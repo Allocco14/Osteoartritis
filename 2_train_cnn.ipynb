{
 "cells": [
  {
   "cell_type": "markdown",
   "metadata": {},
   "source": [
    "# Cargar ResNet50 de base"
   ]
  },
  {
   "cell_type": "code",
   "execution_count": 2,
   "metadata": {},
   "outputs": [],
   "source": [
    "import tensorflow as tf\n",
    "from tensorflow.keras import layers, models\n",
    "from tensorflow.keras.applications import ResNet50\n",
    "\n",
    "imagen_alto = 128\n",
    "imagen_ancho = 128\n",
    "canales_de_color = 3\n",
    "\n",
    "base_model = ResNet50(weights='imagenet', include_top=False, input_shape=(imagen_alto, imagen_ancho, canales_de_color))\n",
    "x = base_model.output\n",
    "x = layers.GlobalAveragePooling2D()(x)\n",
    "x = layers.Dense(1024, activation='relu')(x)\n",
    "predictions = layers.Dense(1, activation='sigmoid')(x)\n",
    "\n",
    "model = models.Model(inputs=base_model.input, outputs=predictions)\n"
   ]
  },
  {
   "cell_type": "code",
   "execution_count": 3,
   "metadata": {},
   "outputs": [],
   "source": [
    "for layer in base_model.layers:\n",
    "    layer.trainable = False\n",
    "\n",
    "model.compile(optimizer='adam', loss='binary_crossentropy', metrics=['accuracy'])\n"
   ]
  },
  {
   "cell_type": "markdown",
   "metadata": {},
   "source": [
    "# Importación de datos"
   ]
  },
  {
   "cell_type": "code",
   "execution_count": 4,
   "metadata": {},
   "outputs": [
    {
     "name": "stdout",
     "output_type": "stream",
     "text": [
      "(17217, 128, 128, 3)\n",
      "(17217,)\n"
     ]
    }
   ],
   "source": [
    "import os\n",
    "import cv2\n",
    "import numpy as np\n",
    "import pathlib\n",
    "import matplotlib.pyplot as plt\n",
    "\n",
    "data_dir = pathlib.Path('assets')\n",
    "\n",
    "# Lista para almacenar las imágenes y etiquetas\n",
    "imagenes = []\n",
    "etiquetas = []\n",
    "\n",
    "# Clases disponibles\n",
    "clases = ['class_A', 'class_B', 'class_C',]\n",
    "\n",
    "# Recorrer las carpetas de las clases\n",
    "for plate in os.listdir(data_dir):\n",
    "    for clase in clases:\n",
    "        for file in os.listdir(data_dir / plate / 'resized' / clase):\n",
    "            # Leer la imagen\n",
    "            imagen = cv2.imread(str(data_dir / plate / 'resized' / clase / file), cv2.IMREAD_COLOR)\n",
    "            \n",
    "            # Normalizar la imagen\n",
    "            imagen = imagen / 255.0\n",
    "            # Agregar la imagen a la lista\n",
    "            imagenes.append(imagen)\n",
    "            # Agregar la etiqueta a la lista en el formato 0 o 1\n",
    "            etiquetas.append(0 if clase == 'class_B' else 1)\n",
    "\n",
    "# Convertir las listas de imágenes y etiquetas a arrays numpy\n",
    "imagenes = np.array(imagenes)\n",
    "etiquetas = np.array(etiquetas)\n",
    "\n",
    "print(imagenes.shape)\n",
    "print(etiquetas.shape)\n"
   ]
  },
  {
   "cell_type": "code",
   "execution_count": null,
   "metadata": {},
   "outputs": [],
   "source": [
    "# # Submuestreo de la clase mayoritaria\n",
    "# \n",
    "# # Contar el número de muestras de cada clase\n",
    "# clase_0 = np.sum(etiquetas == 0)\n",
    "# clase_1 = np.sum(etiquetas == 1)\n",
    "# \n",
    "# # Determinar la clase mayoritaria y la clase minoritaria\n",
    "# clase_mayoritaria = 0 if clase_0 > clase_1 else 1\n",
    "# clase_minoritaria = 1 if clase_mayoritaria == 0 else 0\n",
    "# \n",
    "# # Calcular la diferencia entre el número de muestras de la clase mayoritaria y la clase minoritaria\n",
    "# diferencia = clase_0 - clase_1 if clase_0 > clase_1 else clase_1 - clase_0\n",
    "# \n",
    "# # Encontrar los índices de las muestras de la clase mayoritaria\n",
    "# indices = np.where(etiquetas == clase_mayoritaria)[0]\n",
    "# \n",
    "# # Seleccionar aleatoriamente las muestras de la clase mayoritaria a eliminar\n",
    "# indices = np.random.choice(indices, diferencia, replace=False)\n",
    "# \n",
    "# # Eliminar las muestras de la clase mayoritaria\n",
    "# imagenes = np.delete(imagenes, indices, axis=0)\n",
    "# etiquetas = np.delete(etiquetas, indices, axis=0)\n",
    "# \n",
    "# # Contar el número de muestras de cada clase después del submuestreo\n",
    "# clase_0 = np.sum(etiquetas == 0)\n",
    "# clase_1 = np.sum(etiquetas == 1)\n",
    "# \n",
    "# print(clase_0, clase_1)\n",
    "# \n",
    "# # etiquetas = tf.keras.utils.to_categorical(etiquetas, num_classes=2)\n",
    "# \n",
    "# print(imagenes.shape)\n",
    "# print(etiquetas.shape)\n",
    "# "
   ]
  },
  {
   "cell_type": "code",
   "execution_count": 5,
   "metadata": {},
   "outputs": [
    {
     "name": "stdout",
     "output_type": "stream",
     "text": [
      "16021 16021\n"
     ]
    }
   ],
   "source": [
    "# Oversampling de la clase minoritaria\n",
    "\n",
    "# Contar el número de muestras de cada clase\n",
    "clase_0 = np.sum(etiquetas == 0)\n",
    "clase_1 = np.sum(etiquetas == 1)\n",
    "\n",
    "# Determinar la clase mayoritaria y la clase minoritaria\n",
    "clase_mayoritaria = 0 if clase_0 > clase_1 else 1\n",
    "clase_minoritaria = 1 if clase_mayoritaria == 0 else 0\n",
    "\n",
    "# Calcular la diferencia entre el número de muestras de la clase mayoritaria y la clase minoritaria\n",
    "diferencia = clase_0 - clase_1 if clase_0 > clase_1 else clase_1 - clase_0\n",
    "\n",
    "# Encontrar los índices de las muestras de la clase minoritaria\n",
    "indices = np.where(etiquetas == clase_minoritaria)[0]\n",
    "\n",
    "# Seleccionar aleatoriamente las muestras de la clase minoritaria a duplicar\n",
    "indices = np.random.choice(indices, diferencia, replace=True)\n",
    "\n",
    "# Duplicar las muestras de la clase minoritaria\n",
    "imagenes = np.concatenate((imagenes, imagenes[indices]), axis=0)\n",
    "etiquetas = np.concatenate((etiquetas, etiquetas[indices]), axis=0)\n",
    "\n",
    "# Contar el número de muestras de cada clase después del sobremuestreo\n",
    "clase_0 = np.sum(etiquetas == 0)\n",
    "clase_1 = np.sum(etiquetas == 1)\n",
    "\n",
    "print(clase_0, clase_1)\n",
    "\n",
    "\n"
   ]
  },
  {
   "cell_type": "markdown",
   "metadata": {},
   "source": [
    "# Alistamiento de los datos"
   ]
  },
  {
   "cell_type": "code",
   "execution_count": 6,
   "metadata": {},
   "outputs": [],
   "source": [
    "from sklearn.model_selection import train_test_split\n",
    "\n",
    "# Dividir los datos en entrenamiento y validación\n",
    "imagenes_entrenamiento, imagenes_validacion, etiquetas_entrenamiento, etiquetas_validacion = train_test_split(imagenes, etiquetas, test_size=0.2, random_state=42)\n",
    "\n",
    "# Convertir las listas de imágenes y etiquetas de entrenamiento a arrays numpy\n",
    "imagenes_entrenamiento = np.array(imagenes_entrenamiento)\n",
    "etiquetas_entrenamiento = np.array(etiquetas_entrenamiento)\n",
    "\n",
    "# Convertir las listas de imágenes y etiquetas de validación a arrays numpy\n",
    "imagenes_validacion = np.array(imagenes_validacion)\n",
    "etiquetas_validacion = np.array(etiquetas_validacion)"
   ]
  },
  {
   "cell_type": "markdown",
   "metadata": {},
   "source": [
    "# Entrenar el modelo"
   ]
  },
  {
   "cell_type": "code",
   "execution_count": 7,
   "metadata": {},
   "outputs": [
    {
     "name": "stdout",
     "output_type": "stream",
     "text": [
      "Epoch 1/12\n",
      "\u001b[1m802/802\u001b[0m \u001b[32m━━━━━━━━━━━━━━━━━━━━\u001b[0m\u001b[37m\u001b[0m \u001b[1m556s\u001b[0m 682ms/step - accuracy: 0.6160 - loss: 0.6588\n",
      "Epoch 2/12\n",
      "\u001b[1m802/802\u001b[0m \u001b[32m━━━━━━━━━━━━━━━━━━━━\u001b[0m\u001b[37m\u001b[0m \u001b[1m556s\u001b[0m 693ms/step - accuracy: 0.6901 - loss: 0.5894\n",
      "Epoch 3/12\n",
      "\u001b[1m802/802\u001b[0m \u001b[32m━━━━━━━━━━━━━━━━━━━━\u001b[0m\u001b[37m\u001b[0m \u001b[1m590s\u001b[0m 736ms/step - accuracy: 0.6970 - loss: 0.5807\n",
      "Epoch 4/12\n",
      "\u001b[1m802/802\u001b[0m \u001b[32m━━━━━━━━━━━━━━━━━━━━\u001b[0m\u001b[37m\u001b[0m \u001b[1m549s\u001b[0m 684ms/step - accuracy: 0.6985 - loss: 0.5730\n",
      "Epoch 5/12\n",
      "\u001b[1m802/802\u001b[0m \u001b[32m━━━━━━━━━━━━━━━━━━━━\u001b[0m\u001b[37m\u001b[0m \u001b[1m540s\u001b[0m 673ms/step - accuracy: 0.7005 - loss: 0.5658\n",
      "Epoch 6/12\n",
      "\u001b[1m802/802\u001b[0m \u001b[32m━━━━━━━━━━━━━━━━━━━━\u001b[0m\u001b[37m\u001b[0m \u001b[1m541s\u001b[0m 674ms/step - accuracy: 0.7082 - loss: 0.5587\n",
      "Epoch 7/12\n",
      "\u001b[1m802/802\u001b[0m \u001b[32m━━━━━━━━━━━━━━━━━━━━\u001b[0m\u001b[37m\u001b[0m \u001b[1m1511s\u001b[0m 2s/step - accuracy: 0.7149 - loss: 0.5496\n",
      "Epoch 8/12\n",
      "\u001b[1m802/802\u001b[0m \u001b[32m━━━━━━━━━━━━━━━━━━━━\u001b[0m\u001b[37m\u001b[0m \u001b[1m543s\u001b[0m 676ms/step - accuracy: 0.7152 - loss: 0.5503\n",
      "Epoch 9/12\n",
      "\u001b[1m802/802\u001b[0m \u001b[32m━━━━━━━━━━━━━━━━━━━━\u001b[0m\u001b[37m\u001b[0m \u001b[1m4043s\u001b[0m 5s/step - accuracy: 0.7180 - loss: 0.5414\n",
      "Epoch 10/12\n",
      "\u001b[1m802/802\u001b[0m \u001b[32m━━━━━━━━━━━━━━━━━━━━\u001b[0m\u001b[37m\u001b[0m \u001b[1m555s\u001b[0m 693ms/step - accuracy: 0.7198 - loss: 0.5429\n",
      "Epoch 11/12\n",
      "\u001b[1m802/802\u001b[0m \u001b[32m━━━━━━━━━━━━━━━━━━━━\u001b[0m\u001b[37m\u001b[0m \u001b[1m5688s\u001b[0m 7s/step - accuracy: 0.7271 - loss: 0.5402\n",
      "Epoch 12/12\n",
      "\u001b[1m802/802\u001b[0m \u001b[32m━━━━━━━━━━━━━━━━━━━━\u001b[0m\u001b[37m\u001b[0m \u001b[1m573s\u001b[0m 714ms/step - accuracy: 0.7287 - loss: 0.5299\n"
     ]
    },
    {
     "data": {
      "text/plain": [
       "<keras.src.callbacks.history.History at 0x23d61abbed0>"
      ]
     },
     "execution_count": 7,
     "metadata": {},
     "output_type": "execute_result"
    }
   ],
   "source": [
    "num_epochs = 12\n",
    "batch_size = 32\n",
    "\n",
    "# Directorio donde se guardarán los registros para TensorBoard\n",
    "# directorio_logs = \"logs/\"\n",
    "\n",
    "# Callback de TensorBoard\n",
    "# tensorboard_callback = TensorBoard(log_dir=directorio_logs, histogram_freq=1)\n",
    "\n",
    "# Entrenar el modelo con el callback de TensorBoard\n",
    "model.fit(\n",
    "    imagenes_entrenamiento, etiquetas_entrenamiento,\n",
    "    epochs=num_epochs,\n",
    "    batch_size=batch_size,\n",
    "    )\n"
   ]
  },
  {
   "cell_type": "markdown",
   "metadata": {},
   "source": [
    "# Evaluar el modelo"
   ]
  },
  {
   "cell_type": "code",
   "execution_count": 8,
   "metadata": {},
   "outputs": [
    {
     "name": "stdout",
     "output_type": "stream",
     "text": [
      "\u001b[1m201/201\u001b[0m \u001b[32m━━━━━━━━━━━━━━━━━━━━\u001b[0m\u001b[37m\u001b[0m \u001b[1m145s\u001b[0m 711ms/step - accuracy: 0.7345 - loss: 0.5438\n",
      "Precisión en datos de prueba: 0.7381806969642639\n"
     ]
    }
   ],
   "source": [
    "test_loss, test_acc = model.evaluate(imagenes_validacion, etiquetas_validacion)\n",
    "print('Precisión en datos de prueba:', test_acc)"
   ]
  },
  {
   "cell_type": "markdown",
   "metadata": {},
   "source": [
    "# Guardado del entrenamiento"
   ]
  },
  {
   "cell_type": "code",
   "execution_count": 9,
   "metadata": {},
   "outputs": [],
   "source": [
    "model.save_weights('pesos_modelo_cnn.weights.h5')\n",
    "model.save(filepath='modelo_cnn.keras')"
   ]
  },
  {
   "cell_type": "code",
   "execution_count": 38,
   "metadata": {},
   "outputs": [],
   "source": [
    "# Make a sound when done\n",
    "\n",
    "import winsound\n",
    "frequency = 880  # Set Frequency To 2500 Hertz\n",
    "\n",
    "duration = 700  # Set Duration To 1000 ms == 1 second\n",
    "\n",
    "winsound.Beep(frequency, duration)\n"
   ]
  },
  {
   "cell_type": "code",
   "execution_count": 10,
   "metadata": {},
   "outputs": [
    {
     "name": "stdout",
     "output_type": "stream",
     "text": [
      "\u001b[1m201/201\u001b[0m \u001b[32m━━━━━━━━━━━━━━━━━━━━\u001b[0m\u001b[37m\u001b[0m \u001b[1m139s\u001b[0m 675ms/step\n"
     ]
    },
    {
     "data": {
      "image/png": "[encoded data removed]",
      "text/plain": [
       "<Figure size 640x480 with 2 Axes>"
      ]
     },
     "metadata": {},
     "output_type": "display_data"
    }
   ],
   "source": [
    "# Mostrar la matriz de confusión\n",
    "from sklearn.metrics import confusion_matrix\n",
    "import seaborn\n",
    "import pandas\n",
    "\n",
    "\n",
    "clases = ['class_A', 'class_B']\n",
    "# Obtener las predicciones del modelo\n",
    "predicciones = model.predict(imagenes_validacion)\n",
    "\n",
    "# Convertir las predicciones a etiquetas\n",
    "predicciones = np.where(predicciones > 0.5, 1, 0)\n",
    "\n",
    "# Calcular la matriz de confusión\n",
    "cm = confusion_matrix(etiquetas_validacion, predicciones)\n",
    "\n",
    "# Crear un DataFrame de pandas con la matriz de confusión\n",
    "df = pandas.DataFrame(cm, index=clases, columns=clases)\n",
    "\n",
    "\n",
    "# Mostrar la matriz de confusión\n",
    "seaborn.heatmap(df, annot=True, cmap='Blues')\n",
    "plt.xlabel('Clase predicha')\n",
    "plt.ylabel('Clase real')\n",
    "plt.title('Matriz de confusión')\n",
    "plt.show()\n"
   ]
  },
  {
   "cell_type": "markdown",
   "metadata": {},
   "source": [
    "# Cargar el modelo y los pesos"
   ]
  },
  {
   "cell_type": "code",
   "execution_count": 9,
   "metadata": {},
   "outputs": [],
   "source": [
    "# loaded_model = models.load_model('modelo_cnn.keras')\n",
    "\n",
    "# loaded_model.load_weights('pesos_modelo_cnn.weights.h5')"
   ]
  },
  {
   "cell_type": "markdown",
   "metadata": {},
   "source": [
    "# Cargar una imagen de prueba"
   ]
  },
  {
   "cell_type": "code",
   "execution_count": null,
   "metadata": {},
   "outputs": [],
   "source": [
    "import os\n",
    "\n",
    "OPENSLIDE_PATH = r'C:\\Users\\achav\\Documents\\Osteoartritis\\openslide-win64\\bin'\n",
    "\n",
    "if hasattr(os, 'add_dll_directory'):\n",
    "    # Windows\n",
    "    with os.add_dll_directory(OPENSLIDE_PATH):\n",
    "        import openslide\n",
    "        print('Using OpenSlide from', openslide.__file__)\n",
    "else:\n",
    "    import openslide\n",
    "\n",
    "plate_name = \"Ms-13-22-1_001\"\n",
    "plate_path = plate_name + \".svs\"\n",
    "path = f\"assets/{plate_path}\"\n",
    "\n",
    "# Check if file exists\n",
    "if not os.path.isfile(path):\n",
    "    print(f\"File {path} not found\")\n",
    "\n",
    "slide = openslide.OpenSlide(path)\n",
    "\n",
    "# Get a thumbnail of the whole slide\n",
    "thumbnail = slide.get_thumbnail((slide.dimensions[0] // 64, slide.dimensions[1] // 64))\n",
    "\n",
    "# Convert the thumbnail to a numpy array\n",
    "thumbnail = np.array(thumbnail)\n",
    "\n",
    "# Display the thumbnail\n",
    "plt.imshow(thumbnail)\n",
    "\n",
    "plate_name = \"Ms-13-22-1_001\"\n",
    "plate_path = plate_name + \".svs\"\n",
    "path = f\"assets/{plate_path}\"\n",
    "\n",
    "# Check if file exists\n",
    "if not os.path.isfile(path):\n",
    "    print(f\"File {path} not found\")\n",
    "\n",
    "slide = openslide.OpenSlide(path)\n",
    "\n",
    "# Get a thumbnail of the whole slide\n",
    "thumbnail = slide.get_thumbnail((slide.dimensions[0] // 64, slide.dimensions[1] // 64))\n",
    "\n",
    "# Convert the thumbnail to a numpy array\n",
    "thumbnail = np.array(thumbnail)\n",
    "\n",
    "# Display the thumbnail\n",
    "plt.imshow(thumbnail)"
   ]
  },
  {
   "cell_type": "code",
   "execution_count": null,
   "metadata": {},
   "outputs": [],
   "source": [
    "from collections import defaultdict\n",
    "\n",
    "from time import sleep\n",
    "\n",
    "class_colors = {0: (255, 0, 0), 1: (0, 255, 0), 2: (0, 0, 255)}\n",
    "level = 0\n",
    "\n",
    "# Get the dimensions of the slide\n",
    "width, height = slide.level_dimensions[level]\n",
    "\n",
    "print(slide.level_dimensions)\n",
    "print(slide.level_downsamples)\n",
    "print(width, height)\n",
    "\n",
    "# Create a count dict to store the number of tiles for each class\n",
    "count = defaultdict(int)\n",
    "\n",
    "original = np.array(slide.read_region((0, 0), level, (width, height)).convert(\"RGB\"))\n",
    "\n",
    "# Convert the image to a numpy array\n",
    "# results = np.zeros((width, height, 3), dtype=np.uint8)\n",
    "\n",
    "# print(results.shape)\n",
    "for i in range(0, 1023, 1024):\n",
    "    print(f\"i: {i} / {height}\")\n",
    "    for j in range(0, 1023, 1024):\n",
    "        print(f\"j: {j} / {width}\")\n",
    "        try:\n",
    "            \n",
    "            image = slide.read_region((i, j), level, (256, 256)).convert(\"RGB\")\n",
    "            # Show thumbnail\n",
    "            image = image.resize((128, 128))  # Ajustar al tamaño esperado por el modelo\n",
    "            image = np.array(image)\n",
    "            # plt.imshow(image)\n",
    "\n",
    "            # Asegurarse de que la imagen tiene la forma correcta (128, 128, 3)\n",
    "            image = np.expand_dims(image, axis=0)  # Añadir una dimensión para el batch\n",
    "            # Hacer predicción con el modelo\n",
    "            prediction = model.predict(image, verbose=0)\n",
    "            print(prediction)\n",
    "            # Obtener la clase con la mayor probabilidad\n",
    "            prediction = np.argmax(prediction)\n",
    "            # print(f\"Prediction: {prediction}\")\n",
    "            \n",
    "            # Pintar la región de la imagen original con el color de la clase predicha\n",
    "            # cv2.rectangle(original, (i, j), (i + 256, j + 256), class_colors[prediction], 100)\n",
    "            # cv2.rectangle(results, (i, j), (i + 256, j + 256), class_colors[prediction], -1)\n",
    "            \n",
    "            # Ajustar el tamaño del bloque a 4x4 en la matriz de resultados\n",
    "            count[prediction] += 1\n",
    "\n",
    "        except Exception as e:\n",
    "            winsound.Beep(880, 1000)\n",
    "            print(e)\n",
    "\n",
    "\n",
    "        # Compare original image with the predicted image\n",
    "        #plt.figure(figsize=(10, 10))\n",
    "        #plt.subplot(1, 2, 1)\n",
    "        #thumbnail = cv2.resize(original, (width // 64, height// 64))\n",
    "        #plt.imshow(thumbnail)\n",
    "        #plt.title(\"Original Image\")\n",
    "        #plt.axis(\"off\")\n",
    "\n",
    "        #plt.subplot(1, 2, 2)\n",
    "\n",
    "        ## Resize the results to the same size as the original image\n",
    "        #resultados = cv2.resize(results, (thumbnail.shape[1], thumbnail.shape[0]))\n",
    "\n",
    "        #plt.imshow(resultados)\n",
    "        #plt.title(\"Predicted Image\")\n",
    "        #plt.axis(\"off\")\n",
    "\n",
    "        #plt.show()\n",
    "        \n",
    "\n",
    "# Reduce in a factor of 4\n",
    "# cv2.imwrite(\"original.png\", cv2.resize(thumbnail, (width, height), interpolation=cv2.INTER_NEAREST))\n",
    "# cv2.imwrite(\"results.png\", cv2.resize(results, (width, height), interpolation=cv2.INTER_NEAREST))\n",
    "\n",
    "winsound.Beep(880, 1000)\n",
    "print(count)"
   ]
  },
  {
   "cell_type": "code",
   "execution_count": null,
   "metadata": {},
   "outputs": [],
   "source": [
    "# Compare original image with the predicted image\n",
    "plt.figure(figsize=(10, 10))\n",
    "plt.subplot(1, 2, 1)\n",
    "plt.imshow(thumbnail)\n",
    "plt.title(\"Original Image\")\n",
    "plt.axis(\"off\")\n",
    "\n",
    "plt.subplot(1, 2, 2)\n",
    "\n",
    "# Resize the results to the same size as the original image\n",
    "results = cv2.resize(results, (thumbnail.shape[1], thumbnail.shape[0]))\n",
    "\n",
    "plt.imshow(results)\n",
    "plt.title(\"Predicted Image\")\n",
    "plt.axis(\"off\")\n",
    "\n",
    "plt.show()"
   ]
  }
 ],
 "metadata": {
  "kernelspec": {
   "display_name": "venv",
   "language": "python",
   "name": "python3"
  },
  "language_info": {
   "codemirror_mode": {
    "name": "ipython",
    "version": 3
   },
   "file_extension": ".py",
   "mimetype": "text/x-python",
   "name": "python",
   "nbconvert_exporter": "python",
   "pygments_lexer": "ipython3",
   "version": "3.11.9"
  }
 },
 "nbformat": 4,
 "nbformat_minor": 2
}
