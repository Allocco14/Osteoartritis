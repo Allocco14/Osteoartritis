{
 "cells": [
  {
   "cell_type": "code",
   "execution_count": 4,
   "metadata": {},
   "outputs": [
    {
     "name": "stdout",
     "output_type": "stream",
     "text": [
      "Datos guardados en output.csv\n"
     ]
    }
   ],
   "source": [
    "import os\n",
    "import csv\n",
    "import ast\n",
    "import re\n",
    "\n",
    "# Define el directorio donde están los archivos\n",
    "directory = \"results\"\n",
    "\n",
    "# Nombre del archivo CSV de salida\n",
    "output_csv = \"table.csv\"\n",
    "\n",
    "# Lista para almacenar las filas de la tabla\n",
    "data = [[\"filename\", \"key_0\", \"key_1\"]]\n",
    "\n",
    "# Expresión regular para extraer el contenido del diccionario\n",
    "dict_pattern = re.compile(r\"defaultdict\\(<class 'int'>, ({.*})\\)\")\n",
    "\n",
    "# Iterar sobre los archivos en el directorio\n",
    "for filename in os.listdir(directory):\n",
    "    if filename.endswith(\".txt\"):  # Asegúrate de que solo procesamos archivos .txt (o el tipo de archivo que corresponda)\n",
    "        file_path = os.path.join(directory, filename)\n",
    "        \n",
    "        # Lee el contenido del archivo\n",
    "        with open(file_path, 'r') as file:\n",
    "            content = file.read().strip()\n",
    "            \n",
    "            # Busca el contenido del diccionario usando la expresión regular\n",
    "            match = dict_pattern.search(content)\n",
    "            if match:\n",
    "                dict_str = match.group(1)  # Extrae solo la parte del diccionario\n",
    "                \n",
    "                try:\n",
    "                    # Convierte la cadena a un diccionario\n",
    "                    dict_content = ast.literal_eval(dict_str)\n",
    "                    \n",
    "                    # Extraer los valores de las llaves 0 y 1\n",
    "                    key_0_value = dict_content.get(0, 0)\n",
    "                    key_1_value = dict_content.get(1, 0)\n",
    "                    \n",
    "                    # Agregar la fila a la lista de datos\n",
    "                    data.append([filename, key_0_value, key_1_value])\n",
    "                except (SyntaxError, ValueError):\n",
    "                    print(f\"Error al procesar el archivo: {filename}\")\n",
    "\n",
    "# Escribir los datos en un archivo CSV\n",
    "with open(output_csv, 'w', newline='') as csvfile:\n",
    "    writer = csv.writer(csvfile)\n",
    "    writer.writerows(data)\n",
    "\n",
    "print(f\"Datos guardados en {output_csv}\")\n"
   ]
  }
 ],
 "metadata": {
  "kernelspec": {
   "display_name": "venv",
   "language": "python",
   "name": "python3"
  },
  "language_info": {
   "codemirror_mode": {
    "name": "ipython",
    "version": 3
   },
   "file_extension": ".py",
   "mimetype": "text/x-python",
   "name": "python",
   "nbconvert_exporter": "python",
   "pygments_lexer": "ipython3",
   "version": "3.11.9"
  }
 },
 "nbformat": 4,
 "nbformat_minor": 2
}
